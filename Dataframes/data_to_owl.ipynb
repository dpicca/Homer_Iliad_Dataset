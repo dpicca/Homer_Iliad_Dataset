{
 "cells": [
  {
   "cell_type": "markdown",
   "id": "4fd81e28-f7e0-4b41-8f87-0faa3ab2b76a",
   "metadata": {},
   "source": [
    "# Populating the ontology\n",
    "\n",
    "This notebook populates the character profiling ontology with the prepared data."
   ]
  },
  {
   "cell_type": "code",
   "execution_count": 1,
   "id": "d971431e-3bbd-44fb-80b3-e4033f3b263d",
   "metadata": {},
   "outputs": [
    {
     "name": "stderr",
     "output_type": "stream",
     "text": [
      "* Owlready2 * Warning: optimized Cython parser module 'owlready2_optimized' is not available, defaulting to slower Python implementation\n"
     ]
    }
   ],
   "source": [
    "from owlready2 import *"
   ]
  },
  {
   "cell_type": "code",
   "execution_count": 10,
   "id": "e091b80f-2902-4cc5-8445-409e687eab43",
   "metadata": {},
   "outputs": [],
   "source": [
    "CHARACTER_PROFILING_ONTOLOGY = 'file://../ontologies/character-profiling-ontology/model.owl'\n",
    "\n",
    "onto = get_ontology(CHARACTER_PROFILING_ONTOLOGY).load()"
   ]
  },
  {
   "cell_type": "code",
   "execution_count": 14,
   "id": "4666d271-b46e-49e9-bbd2-5f8a456a83c5",
   "metadata": {},
   "outputs": [
    {
     "data": {
      "text/plain": [
       "[ontology.Emotion,\n",
       " ontology.Word,\n",
       " ontology.BasicEmotion,\n",
       " ontology.ComplexEmotion,\n",
       " ma-ont.Agent,\n",
       " lemon.Word,\n",
       " literary_characters_psycological_profiles.Narrative_Roles,\n",
       " literary_characters_psycological_profiles.Personality_Profiles,\n",
       " ontology.Acceptance,\n",
       " ontology.Trust,\n",
       " ontology.Admiration,\n",
       " ontology.Aggressiveness,\n",
       " ontology.Anger,\n",
       " ontology.Anticipation,\n",
       " ontology.Amazement,\n",
       " ontology.Surprise,\n",
       " ontology.Terror,\n",
       " ontology.Disgust,\n",
       " ontology.Annoyance,\n",
       " ontology.Joy,\n",
       " ontology.Apprehension,\n",
       " ontology.Awe,\n",
       " ontology.Boredom,\n",
       " ontology.Contempt,\n",
       " ontology.Disapproval,\n",
       " ontology.Sadness,\n",
       " ontology.Distraction,\n",
       " ontology.Ecstacy,\n",
       " ontology.Fear,\n",
       " ontology.Grief,\n",
       " ontology.Interest,\n",
       " ontology.ItalianWord,\n",
       " ontology.Lemon_Import,\n",
       " ontology.Loathing,\n",
       " ontology.Love,\n",
       " ontology.Optimism,\n",
       " ontology.Pensiveness,\n",
       " ontology.Rage,\n",
       " ontology.Remorse,\n",
       " ontology.Serenity,\n",
       " ontology.Submission,\n",
       " ontology.Vigilance,\n",
       " ontology.Wordnet_Sense,\n",
       " lemon.LexicalSense,\n",
       " lemon.generates,\n",
       " literary_characters_psycological_profiles.Agreeablness,\n",
       " literary_characters_psycological_profiles.Antagonistic,\n",
       " literary_characters_psycological_profiles.Compassionate,\n",
       " literary_characters_psycological_profiles.Antagonistic_Words,\n",
       " literary_characters_psycological_profiles.AntiHero,\n",
       " literary_characters_psycological_profiles.Introvert,\n",
       " literary_characters_psycological_profiles.Nervous,\n",
       " literary_characters_psycological_profiles.OpenMinded,\n",
       " literary_characters_psycological_profiles.Careless,\n",
       " literary_characters_psycological_profiles.Conscientiousness,\n",
       " literary_characters_psycological_profiles.Organized,\n",
       " literary_characters_psycological_profiles.Carelessness_Denoting_Words,\n",
       " literary_characters_psycological_profiles.Cautious,\n",
       " literary_characters_psycological_profiles.Openness,\n",
       " literary_characters_psycological_profiles.Cautiousness_denoting_Words,\n",
       " literary_characters_psycological_profiles.Compassion_denoting_Words,\n",
       " literary_characters_psycological_profiles.Extraversion,\n",
       " literary_characters_psycological_profiles.Extroversion_denoting_Words,\n",
       " literary_characters_psycological_profiles.Extrovert,\n",
       " literary_characters_psycological_profiles.Hero,\n",
       " literary_characters_psycological_profiles.Safeguarding,\n",
       " literary_characters_psycological_profiles.Villain,\n",
       " literary_characters_psycological_profiles.Introversion_denoting_Word,\n",
       " literary_characters_psycological_profiles.Neuroticism,\n",
       " literary_characters_psycological_profiles.Nervousness_denoting_Words,\n",
       " literary_characters_psycological_profiles.OpenMindedness_denoting_Words,\n",
       " literary_characters_psycological_profiles.Organized_Words,\n",
       " literary_characters_psycological_profiles.Safeguard_denoting_Words,\n",
       " error.Error1,\n",
       " error.Error2]"
      ]
     },
     "execution_count": 14,
     "metadata": {},
     "output_type": "execute_result"
    }
   ],
   "source": [
    "list(onto.classes())"
   ]
  },
  {
   "cell_type": "code",
   "execution_count": null,
   "id": "13051d58-4d8e-4f82-91ae-89e792e83779",
   "metadata": {},
   "outputs": [],
   "source": []
  },
  {
   "cell_type": "code",
   "execution_count": null,
   "id": "f9724083-aadb-40c6-8f5c-d77fe0ac7645",
   "metadata": {},
   "outputs": [],
   "source": []
  }
 ],
 "metadata": {
  "kernelspec": {
   "display_name": "venv",
   "language": "python",
   "name": "venv"
  },
  "language_info": {
   "codemirror_mode": {
    "name": "ipython",
    "version": 3
   },
   "file_extension": ".py",
   "mimetype": "text/x-python",
   "name": "python",
   "nbconvert_exporter": "python",
   "pygments_lexer": "ipython3",
   "version": "3.10.4"
  }
 },
 "nbformat": 4,
 "nbformat_minor": 5
}
